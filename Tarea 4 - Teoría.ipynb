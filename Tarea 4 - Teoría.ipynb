{
 "cells": [
  {
   "attachments": {},
   "cell_type": "markdown",
   "metadata": {},
   "source": [
    "# Tarea 4: Teoría\n",
    "**García Fierros Nicky**\n",
    "\n",
    "## Instrucciones generales\n",
    "Demuestra lo que se pide\n",
    "\n",
    "-------------------------------"
   ]
  },
  {
   "attachments": {},
   "cell_type": "markdown",
   "metadata": {},
   "source": [
    "### **Ejercicio 1**\n",
    "\n",
    "Toda transformación en un grupo de Schottky, que no sea la identidad, es loxodrómica."
   ]
  },
  {
   "attachments": {},
   "cell_type": "markdown",
   "metadata": {},
   "source": [
    "#### **Prueba**"
   ]
  },
  {
   "attachments": {},
   "cell_type": "markdown",
   "metadata": {},
   "source": [
    "Sea $\\Gamma$ un grupo de Schottky y sean $\\mathtt{a}, \\mathtt{b} \\in \\Gamma\\setminus\\{\\mathrm{Id}\\}$ en el conjunto generador de $\\Gamma$ y $\\mathtt{A}, \\mathtt{B}$ sus respectivos inversos."
   ]
  },
  {
   "attachments": {},
   "cell_type": "markdown",
   "metadata": {},
   "source": [
    "**Afirmación 1** $\\mathtt{ba}(D_{\\mathtt{b}}) \\subseteq D_\\mathtt{b}$\n",
    "\n",
    "En efecto, notemos que $D_\\mathtt{b} \\subseteq \\mathrm{ext}\\ {C_\\mathtt{A}}$ pues al ser $\\Gamma$ de Schottky se tiene que $C_\\mathtt{b}$ y $C_\\mathtt{A}$ no se intersecan, de modo que no es posible que $D_\\mathtt{b} \\cap \\overline{\\mathrm{int}\\ C_{\\mathtt{A}}} \\neq \\varnothing$. \n",
    "\n",
    "De esta última observación se tiene que $\\mathtt{ba}(D_{\\mathtt{b}}) \\subseteq \\mathtt{ba}(\\mathrm{ext}\\ C_\\mathtt{A})$, pero $\\mathtt{a}(\\mathrm{ext}\\ C_{\\mathtt{A}}) = \\mathrm{int}\\ C_\\mathtt{a}$. Así, $\\mathtt{ba}(D_\\mathtt{b}) \\subseteq \\mathtt{b}(\\mathrm{int}\\ C_\\mathtt{a})$. Luego, $\\mathrm{int}\\ C_\\mathtt{a} \\subseteq \\mathrm{ext}\\ C_{B}$, de modo que $\\mathtt{b}(\\mathrm{int}\\ C_{\\mathtt{a}}) \\subseteq \\mathtt{b}(\\mathrm{ext}\\ C_\\mathtt{B}) = \\mathrm{int}\\ C_\\mathtt{b} = D_\\mathtt{b}$, de donde se tiene entonces que $\\mathtt{ba}(D_\\mathtt{b}) \\subseteq \\mathtt{b}(\\mathrm{int}\\ C_\\mathtt{a}) \\subseteq D_\\mathtt{b}$, es decir, $\\mathtt{ba}(D_\\mathtt{b}) \\subseteq D_\\mathtt{b}$ como se quería ver.\n",
    "\n",
    "Por otro lado, notemos que $(\\mathtt{ba})^n (D_\\mathtt{b}) \\subseteq \\dots \\subseteq (\\mathtt{ba})(D_\\mathtt{b}) \\subseteq D_\\mathtt{b}$ son discos anidados, y en virtud de que $\\mathtt{b}$ es loxodrómica y $(\\mathtt{ba})^n = \\mathtt{b}(\\mathtt{a}(\\mathtt{ba})^{n-1})$ entonces la cadena de discos anidados anterior debe contener un punto fijo de $\\mathtt{b}$, a saber $z_0(\\mathtt{b})$."
   ]
  },
  {
   "attachments": {},
   "cell_type": "markdown",
   "metadata": {},
   "source": [
    "**Afirmación 2:** $\\mathtt{BA}(D_\\mathtt{B}) \\subseteq D_\\mathtt{B}$\n",
    "\n",
    "En efecto, procediendo de forma análoga a la afirmación anterior se tiene las siguientes implicaciones:\n",
    "$$\n",
    "\\begin{align*}\n",
    "    D_\\mathtt{B} \\subseteq \\mathrm{ext}\\ C_\\mathtt{a} &\\implies \\mathtt{A}(D_\\mathtt{B}) \\subseteq \\mathtt{A}(\\mathrm{ext}\\ C_\\mathtt{a}) = \\mathrm{int}\\ C_\\mathtt{A} = D_\\mathtt{A}\\\\\n",
    "    D_\\mathtt{A} \\subseteq \\mathrm{ext}\\ C_\\mathtt{b} &\\implies \\mathtt{B}(D_\\mathtt{A}) \\subseteq \\mathtt{B}(\\mathrm{ext}\\ C_\\mathtt{b}) = \\mathrm{int}\\ C_\\mathtt{B} = D_\\mathtt{B}\n",
    "\\end{align*}\n",
    "$$\n",
    "\n",
    "por lo que podemos concluir\n",
    "$$\n",
    "    \\mathrm{BA}(D_\\mathrm{B}) = \\mathtt{B}(\\mathtt{A}(\\mathrm{ext}\\ C_\\mathtt{a})) = \\mathtt{B}(D_\\mathtt{A}) \\subseteq D_\\mathtt{B}\n",
    "$$\n",
    "\n",
    "y por consiguiente $(\\mathtt{BA})^n (D_\\mathtt{B}) \\subseteq \\dots \\subseteq (\\mathtt{BA})(D_\\mathtt{B}) \\subseteq D_\\mathtt{B}$ son discos anidados, y entonces la cadena de discos anidados anterior debe contener un punto fijo de $\\mathtt{B}$, a saber $z_1(\\mathtt{B})$ distinto de $z_0(\\mathtt{b})$ pues $C_\\mathtt{B}$ y $C_\\mathtt{b}$ son ajenos."
   ]
  },
  {
   "attachments": {},
   "cell_type": "markdown",
   "metadata": {},
   "source": [
    "**Afirmación 3:** $\\mathtt{ab}(D_\\mathtt{a}) \\subseteq D_\\mathtt{a}$\n",
    "\n",
    "De nuevo procediendo de forma análoga a las afirmaciones anteriores, notemos que\n",
    "$$\n",
    "    D_\\mathtt{a} \\subseteq \\mathrm{ext}\\ C_\\mathtt{B} \\implies \\mathtt{b}(D_\\mathtt{a}) \\subseteq \\mathtt{b}(\\mathrm{ext}\\ C_\\mathtt{B}) = \\mathrm{int}\\ C_\\mathtt{b} = D_\\mathtt{b} \\implies \\mathtt{ab}(D_\\mathtt{a}) \\subseteq \\mathtt{a}(D_\\mathtt{b})\n",
    "$$\n",
    "\n",
    "Como $D_\\mathtt{b} \\subseteq \\mathrm{ext}(C_\\mathtt{A})$ entonces $\\mathtt{a}(D_\\mathtt{b}) \\subseteq \\mathtt{a}(\\mathrm{ext}\\ C_\\mathtt{A}) = \\mathrm{int}\\ C_\\mathtt{a} = D_\\mathtt{a}$\n",
    "\n",
    "Por lo tanto,\n",
    "$$\n",
    "    \\mathtt{ab}(D_\\mathtt{a}) \\subseteq \\mathtt{a} D_\\mathtt{b} \\subseteq D_\\mathtt{a}\n",
    "$$\n",
    "\n",
    "y de nuevo tenemos la cadena de discos anidados\n",
    "$$\n",
    "    (\\mathtt{ab})^n (D_\\mathtt{a}) \\subseteq \\dots \\subseteq (\\mathtt{ab})(D_\\mathtt{a}) \\subseteq D_\\mathtt{a}\n",
    "$$\n",
    "\n",
    "y podemos concluir que dicha cadena contiene un punto fijo de $\\mathtt{a}$, a saber $z_0(\\mathtt{a})$.\n",
    "\n",
    "Como es de esperarse, procediendo de forma análoga podemos producir una cadena de discos anidados\n",
    "\n",
    "$$\n",
    "    (\\mathtt{AB})^n (D_\\mathtt{A}) \\subseteq \\dots \\subseteq \\mathtt{AB}(D_\\mathtt{A}) \\subseteq D_\\mathtt{A}\n",
    "$$\n",
    "\n",
    "que tenga a $z_1(\\mathtt{A})$ punto fijo de $A$ distinto a $z_0(\\mathtt{a})$ en su intersección."
   ]
  },
  {
   "attachments": {},
   "cell_type": "markdown",
   "metadata": {},
   "source": [
    "De esta forma, se ha demostrado que la composición de dos elementos en el conjunto generador de $\\Gamma$ es una transformación loxodrómica. Luego, como para cualesquiera $\\mathtt{s} \\in \\Gamma$ se tiene que es una palabra (composición) formada por elementos en el conjunto generador de $\\Gamma$ entonces $\\mathtt{s}$ es loxodrómica, como se quería mostrar originalmente. $\\blacksquare$"
   ]
  },
  {
   "attachments": {},
   "cell_type": "markdown",
   "metadata": {},
   "source": [
    "------------------------"
   ]
  },
  {
   "attachments": {},
   "cell_type": "markdown",
   "metadata": {},
   "source": [
    "### **Ejercicio 2**\n",
    "\n",
    "Para cualquier $z \\in \\hat{\\mathbb{C}}$,\n",
    "  1. El estabilizador $\\Gamma_z$ es subgrupo de $\\Gamma$.\n",
    "  2. Para cualquier $S \\in \\mathrm{Möb}$, $S\\Gamma_z S^{-1} = \\Gamma_{S(z)}$\n",
    "  3. ¿Cómo son los estabilizadores en un grupo de Schottky?"
   ]
  },
  {
   "attachments": {},
   "cell_type": "markdown",
   "metadata": {},
   "source": [
    "#### **Prueba**"
   ]
  },
  {
   "attachments": {},
   "cell_type": "markdown",
   "metadata": {},
   "source": [
    "### 1. El estabilizador $\\Gamma_z$ es subgrupo de $\\Gamma$."
   ]
  },
  {
   "attachments": {},
   "cell_type": "markdown",
   "metadata": {},
   "source": [
    "Primero veamos que $\\forall S \\in \\Gamma_z$ se tiene que $S^{-1} \\in \\Gamma_z$.\n",
    "\n",
    "En efecto, como $S \\in \\Gamma_z$ entonces $S(z) = z$ y por lo tanto $S^{-1}S(z) = S^{-1}(z)$, pero $S^{-1}S = 1_{\\Gamma}$ por lo que $z = S^{-1}(z)$\n",
    "\n",
    "$\\therefore \\forall S \\in \\Gamma_z (S^{-1} \\in \\Gamma_z)$."
   ]
  },
  {
   "attachments": {},
   "cell_type": "markdown",
   "metadata": {},
   "source": [
    "Finalmente, para probar que $\\Gamma_z \\leqslant \\Gamma$ basta ver que $\\forall S, T \\in \\Gamma_z\\ (S T^{-1} \\in \\Gamma_z)$.\n",
    "\n",
    "Sean $S, T \\in \\Gamma_z$. Por la afirmación anterior $T^{-1} \\in \\Gamma_z$. Así,\n",
    "$$\n",
    "    \\begin{align*}\n",
    "        T \\in \\Gamma_z &\\implies T^{-1}(z) = z\\\\\n",
    "        S \\in \\Gamma_z &\\implies S(z) = z\\\\\n",
    "        \\therefore S T^{-1}(z) &= S(T^{-1}(z))\\\\ \n",
    "        &= S(z) = z\n",
    "    \\end{align*}\n",
    "$$\n",
    "\n",
    "Así, se tiene que $ST^{-1} \\in \\Gamma_z$ y por lo tanto $\\Gamma_z \\leqslant \\Gamma$. $\\blacksquare$"
   ]
  },
  {
   "attachments": {},
   "cell_type": "markdown",
   "metadata": {},
   "source": [
    "### 2. Para cualquier $S \\in \\mathrm{Möb}$, $S\\Gamma_z S^{-1} = \\Gamma_{S(z)}$"
   ]
  },
  {
   "attachments": {},
   "cell_type": "markdown",
   "metadata": {},
   "source": [
    "Sea $S \\in \\mathrm{Möb}$ y $z \\in \\hat{\\mathbb{C}}$."
   ]
  },
  {
   "attachments": {},
   "cell_type": "markdown",
   "metadata": {},
   "source": [
    "$\\boxed{\\subseteq}$\n",
    "\n",
    "Sea $S\\mathtt{g}S^{-1} \\in S\\Gamma_zS$. Entonces tenemos la siguiente cadena de igualdades\n",
    "$$\n",
    "    \\begin{align*}\n",
    "        (S\\mathtt{g}S^{-1})(S(z)) &= S(\\mathtt{g}(S^{-1}(S(z))))\\\\\n",
    "        &= S(\\mathtt{g}(z))\\\\\n",
    "        &= S(z)\n",
    "    \\end{align*}\n",
    "$$\n",
    "\n",
    "Por lo tanto, $S\\mathtt{g}S^{-1} \\in \\Gamma_{S(z)}$."
   ]
  },
  {
   "attachments": {},
   "cell_type": "markdown",
   "metadata": {},
   "source": [
    "$\\boxed{\\supseteq}$\n",
    "\n",
    "Sea $\\mathtt{u} \\in \\Gamma_{S(z)}$. Entonces $\\mathtt{u}$ es tal que $\\mathtt{u}(S(z)) = S(z)$, lo cual implica que \n",
    "$$\n",
    "    S^{-1}(\\mathtt{u}(S(z))) = S^{-1}(S(z)) = z\n",
    "$$\n",
    "\n",
    "por lo que $S^{-1}\\mathtt{u}S(z) \\in \\Gamma_z$.\n",
    "\n",
    "Se afirma que $\\mathtt{g} = S^{-1}\\mathtt{u}S$ es tal que $\\mathtt{u} = S\\mathtt{g}S^{-1}$. En efecto, en virtud de que la composición de funciones es asociativa y todas las transformaciones en cuestión están definidas en $\\hat{\\mathbb{C}}$ se tiene que\n",
    "$$\n",
    "    S\\mathtt{g}S^{-1} = S(S^{-1}\\mathtt{u}S)S^{-1} = (SS^{-1})\\mathtt{u}(SS^{-1}) = 1_{\\hat{\\mathbb{C}}} \\circ \\mathtt{u} \\circ 1_{\\hat{\\mathbb{C}}} = \\mathtt{u}\n",
    "$$\n",
    "\n",
    "Así, se ha mostrado que existe $\\mathtt{g} \\in \\Gamma_z$ tal que $\\mathtt{u} = S\\mathtt{g}S^{-1}$, por lo que $\\mathtt{u} \\in S\\Gamma_zS^{-1}$.\n",
    "\n",
    "$\\therefore S\\Gamma_zS^{-1} = \\Gamma_{S(z)}$. $\\blacksquare$"
   ]
  },
  {
   "attachments": {},
   "cell_type": "markdown",
   "metadata": {},
   "source": [
    "### 3. ¿Cómo son los estabilizadores en un grupo de Schottky?"
   ]
  },
  {
   "attachments": {},
   "cell_type": "markdown",
   "metadata": {},
   "source": [
    "**Afirmación:** Los estabilizadores en un grupo de Schottky son los estabilizadores de los puntos fijos de los generadores.\n",
    "\n",
    "**Prueba:**\n"
   ]
  },
  {
   "attachments": {},
   "cell_type": "markdown",
   "metadata": {},
   "source": [
    "-----------------------------------"
   ]
  },
  {
   "attachments": {},
   "cell_type": "markdown",
   "metadata": {},
   "source": [
    "### Ejercicio 3.\n",
    "\n",
    "El grupo $\\Gamma = \\langle z \\mapsto iz, z \\mapsto \\frac{1}{z} \\rangle$ sólo tiene 4 estabilizadores distintos."
   ]
  },
  {
   "attachments": {},
   "cell_type": "markdown",
   "metadata": {},
   "source": [
    "### **Prueba**"
   ]
  },
  {
   "attachments": {},
   "cell_type": "markdown",
   "metadata": {},
   "source": [
    "(Hint: Encuentra todas las transformaciones en el grupo y encuentra los estabilizadores de sus puntos fijos)"
   ]
  },
  {
   "attachments": {},
   "cell_type": "markdown",
   "metadata": {},
   "source": [
    "Primero encontramos el conjunto generado por $z \\xmapsto{\\mathtt{a}} iz$ y $z \\xmapsto{\\mathtt{b}} \\frac{1}{z}$ mediante DFS para obtener el árbol generador de la gráfica de Cayley asociada a $\\Gamma$. (Las palabras reducidas de $\\Gamma$)"
   ]
  },
  {
   "attachments": {},
   "cell_type": "markdown",
   "metadata": {},
   "source": [
    "![árbol](./img/dfs_ej3.png)"
   ]
  },
  {
   "attachments": {},
   "cell_type": "markdown",
   "metadata": {},
   "source": [
    "Luego, para cada elemento de $\\Gamma$ encontramos sus puntos fijos.\n",
    "(Con ayuda de Wolfram Mathematica)"
   ]
  },
  {
   "attachments": {},
   "cell_type": "markdown",
   "metadata": {},
   "source": [
    "![puntos fijos obtenidos con mathematica para cada elemento en Gamma](./img/mathematica_ej3.png)"
   ]
  },
  {
   "attachments": {},
   "cell_type": "markdown",
   "metadata": {},
   "source": [
    "Finalmente, encontramos los estabilizadores de cada punto fijo (de nuevo con ayuda de Wolfram Mathematica)\n",
    "\n",
    "\n",
    "![estabilizadores de los puntos fijos](./img/estabilizadores_ej3.png)"
   ]
  },
  {
   "attachments": {},
   "cell_type": "markdown",
   "metadata": {},
   "source": [
    "donde la sintaxis `f @* g` representa la composición $f \\circ g$.\n",
    "De lo anterior, encontramos que existen cinco estabilizadores distintos (6 contando el trivial)\n",
    "\n",
    "$$\n",
    "\\begin{align*}\n",
    "    \\Gamma_0 = \\{\\mathtt{a}, \\mathtt{a}^2, \\mathtt{a}^3\\}\\\\\n",
    "    \\Gamma_{-1} = \\Gamma_{1} = \\{\\mathtt{b}\\}\\\\\n",
    "    \\Gamma_{(-1)^{3/4}} = \\Gamma_{-(-1)^{3/4}} = \\{\\mathtt{ba}\\}\\\\\n",
    "    \\Gamma_{(-1)^{1/4}} = \\Gamma_{-(-1)^{1/4}} = \\{\\mathtt{ab}\\}\\\\\n",
    "    \\Gamma_{i} = \\Gamma_{-i} = \\{\\mathtt{aab}\\}\\\\\n",
    "\\end{align*}\n",
    "$$"
   ]
  },
  {
   "attachments": {},
   "cell_type": "markdown",
   "metadata": {},
   "source": [
    "-----------------------"
   ]
  },
  {
   "attachments": {},
   "cell_type": "markdown",
   "metadata": {},
   "source": [
    "### Ejercicio 4.\n",
    "\n",
    "1. Para cualquier $z \\in \\hat{\\mathbb{C}}$, se tiene que $\\Lambda_\\Gamma(z) \\subsetneq \\Lambda(\\Gamma)$ y $\\Lambda_\\Gamma(z)$ es simétrico bajo $\\Gamma$.\n",
    "2. (Ejercicio Extra) Sea $\\Gamma$ un grupo de Schottky y $\\mathcal{R}$ su región fundamental dada por la definición. Demuestra que si $z \\in \\mathcal{R}$ entonces $\\Lambda_\\Gamma(z) = \\Lambda(\\Gamma)$."
   ]
  },
  {
   "attachments": {},
   "cell_type": "markdown",
   "metadata": {},
   "source": [
    "### **Prueba**"
   ]
  },
  {
   "attachments": {},
   "cell_type": "markdown",
   "metadata": {},
   "source": [
    "### 1. Para cualquier $z \\in \\hat{\\mathbb{C}}$, se tiene que $\\Lambda_\\Gamma(z) \\subsetneq \\Lambda(\\Gamma)$ y $\\Lambda_\\Gamma(z)$ es simétrico bajo $\\Gamma$.\n",
    "\n",
    "$\\boxed{\\subseteq}$\n",
    "\n",
    "Sea $w \\in \\Lambda_\\Gamma(z)$. Entonces existe $(s_n)_{n \\in \\mathbb{N}} \\subseteq \\Gamma$ sucesión inyectiva tal que $s_n(z) \\rightarrow w$. Entonces por definición $w \\in \\Lambda(\\Gamma)$.\n",
    "\n",
    "$\\boxed{\\neq}$\n",
    "\n",
    "Consideremos $\\Gamma = \\langle\\mathtt{a}\\rangle$ con $\\mathtt{a}(z) = \\frac{1}{2} z$. Entonces $\\Lambda_\\Gamma(0) = \\{0\\} \\subsetneq \\Lambda(\\Gamma)$ pues $\\Lambda(\\Gamma) = \\{0, \\infty\\}$.\n",
    "\n",
    "$\\boxed{\\Lambda_\\Gamma(z)\\text{ es simétrico bajo }\\Gamma}$\n",
    "\n",
    "Sea $w \\in \\Lambda_\\Gamma(z)$. Entonces existe $(s_n)_{n \\in \\mathbb{N}} \\subseteq \\Gamma$ sucesión inyectiva y $z_w \\in \\hat{\\mathbb{C}}$ tales que\n",
    "$s_n(z_w) \\rightarrow w$. Sea $g \\in \\Gamma \\leqslant \\mathrm{Möb}$. Entonces $g$ es continua y biyectiva con inversa continua. En virtud de lo anterior,\n",
    "$$g(s_n(z_w)) \\rightarrow g(w) %\\\\ g^{-1}(s_n(z_w)) \\rightarrow g^{-1}(w)$$\n",
    "Nótese que $g$ y $s_n$ son distintas, y además $g(s_n(z_w)) = g \\circ s_n(z_w)$ por lo que $g(w) \\in \\Lambda_\\Gamma(z_w)$. Luego, como $g \\in \\Gamma$ fue arbitraria, entonces se tiene que $\\Gamma (\\Lambda_\\Gamma(z_w)) \\subseteq \\Lambda_\\Gamma(z_w)$ como se quería ver. $\\blacksquare$ "
   ]
  },
  {
   "attachments": {},
   "cell_type": "markdown",
   "metadata": {},
   "source": [
    "--------------------------------"
   ]
  },
  {
   "attachments": {},
   "cell_type": "markdown",
   "metadata": {},
   "source": [
    "# Fin"
   ]
  },
  {
   "attachments": {},
   "cell_type": "markdown",
   "metadata": {},
   "source": []
  }
 ],
 "metadata": {
  "language_info": {
   "name": "python"
  },
  "orig_nbformat": 4
 },
 "nbformat": 4,
 "nbformat_minor": 2
}
